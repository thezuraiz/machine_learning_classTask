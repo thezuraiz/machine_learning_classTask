{
 "cells": [
  {
   "cell_type": "code",
   "execution_count": 1,
   "id": "36fc71e9-d653-4215-941b-e02c0332a027",
   "metadata": {},
   "outputs": [],
   "source": [
    "import warnings\n",
    "warnings.filterwarnings(\"ignore\")"
   ]
  },
  {
   "cell_type": "code",
   "execution_count": 2,
   "id": "fc8ff1ef-1a96-48e8-ae13-f7f72e76cd79",
   "metadata": {},
   "outputs": [
    {
     "name": "stdout",
     "output_type": "stream",
     "text": [
      "Requirement already satisfied: pandas in c:\\users\\mohsinamin\\anaconda3\\envs\\ai_env\\lib\\site-packages (2.3.2)\n",
      "Requirement already satisfied: numpy in c:\\users\\mohsinamin\\anaconda3\\envs\\ai_env\\lib\\site-packages (2.2.6)\n",
      "Requirement already satisfied: scikit-learn in c:\\users\\mohsinamin\\anaconda3\\envs\\ai_env\\lib\\site-packages (1.7.2)\n",
      "Requirement already satisfied: imbalanced-learn in c:\\users\\mohsinamin\\anaconda3\\envs\\ai_env\\lib\\site-packages (0.14.0)\n",
      "Requirement already satisfied: joblib in c:\\users\\mohsinamin\\anaconda3\\envs\\ai_env\\lib\\site-packages (1.5.2)\n",
      "Requirement already satisfied: streamlit in c:\\users\\mohsinamin\\anaconda3\\envs\\ai_env\\lib\\site-packages (1.49.1)\n",
      "Requirement already satisfied: python-dateutil>=2.8.2 in c:\\users\\mohsinamin\\anaconda3\\envs\\ai_env\\lib\\site-packages (from pandas) (2.9.0.post0)\n",
      "Requirement already satisfied: pytz>=2020.1 in c:\\users\\mohsinamin\\anaconda3\\envs\\ai_env\\lib\\site-packages (from pandas) (2025.2)\n",
      "Requirement already satisfied: tzdata>=2022.7 in c:\\users\\mohsinamin\\anaconda3\\envs\\ai_env\\lib\\site-packages (from pandas) (2025.2)\n",
      "Requirement already satisfied: scipy>=1.8.0 in c:\\users\\mohsinamin\\anaconda3\\envs\\ai_env\\lib\\site-packages (from scikit-learn) (1.15.3)\n",
      "Requirement already satisfied: threadpoolctl>=3.1.0 in c:\\users\\mohsinamin\\anaconda3\\envs\\ai_env\\lib\\site-packages (from scikit-learn) (3.6.0)\n",
      "Requirement already satisfied: altair!=5.4.0,!=5.4.1,<6,>=4.0 in c:\\users\\mohsinamin\\anaconda3\\envs\\ai_env\\lib\\site-packages (from streamlit) (5.5.0)\n",
      "Requirement already satisfied: blinker<2,>=1.5.0 in c:\\users\\mohsinamin\\anaconda3\\envs\\ai_env\\lib\\site-packages (from streamlit) (1.9.0)\n",
      "Requirement already satisfied: cachetools<7,>=4.0 in c:\\users\\mohsinamin\\anaconda3\\envs\\ai_env\\lib\\site-packages (from streamlit) (6.2.0)\n",
      "Requirement already satisfied: click<9,>=7.0 in c:\\users\\mohsinamin\\anaconda3\\envs\\ai_env\\lib\\site-packages (from streamlit) (8.3.0)\n",
      "Requirement already satisfied: packaging<26,>=20 in c:\\users\\mohsinamin\\anaconda3\\envs\\ai_env\\lib\\site-packages (from streamlit) (25.0)\n",
      "Requirement already satisfied: pillow<12,>=7.1.0 in c:\\users\\mohsinamin\\anaconda3\\envs\\ai_env\\lib\\site-packages (from streamlit) (11.3.0)\n",
      "Requirement already satisfied: protobuf<7,>=3.20 in c:\\users\\mohsinamin\\anaconda3\\envs\\ai_env\\lib\\site-packages (from streamlit) (6.32.1)\n",
      "Requirement already satisfied: pyarrow>=7.0 in c:\\users\\mohsinamin\\anaconda3\\envs\\ai_env\\lib\\site-packages (from streamlit) (21.0.0)\n",
      "Requirement already satisfied: requests<3,>=2.27 in c:\\users\\mohsinamin\\anaconda3\\envs\\ai_env\\lib\\site-packages (from streamlit) (2.32.5)\n",
      "Requirement already satisfied: tenacity<10,>=8.1.0 in c:\\users\\mohsinamin\\anaconda3\\envs\\ai_env\\lib\\site-packages (from streamlit) (9.1.2)\n",
      "Requirement already satisfied: toml<2,>=0.10.1 in c:\\users\\mohsinamin\\anaconda3\\envs\\ai_env\\lib\\site-packages (from streamlit) (0.10.2)\n",
      "Requirement already satisfied: typing-extensions<5,>=4.4.0 in c:\\users\\mohsinamin\\anaconda3\\envs\\ai_env\\lib\\site-packages (from streamlit) (4.15.0)\n",
      "Requirement already satisfied: watchdog<7,>=2.1.5 in c:\\users\\mohsinamin\\anaconda3\\envs\\ai_env\\lib\\site-packages (from streamlit) (6.0.0)\n",
      "Requirement already satisfied: gitpython!=3.1.19,<4,>=3.0.7 in c:\\users\\mohsinamin\\anaconda3\\envs\\ai_env\\lib\\site-packages (from streamlit) (3.1.45)\n",
      "Requirement already satisfied: pydeck<1,>=0.8.0b4 in c:\\users\\mohsinamin\\anaconda3\\envs\\ai_env\\lib\\site-packages (from streamlit) (0.9.1)\n",
      "Requirement already satisfied: tornado!=6.5.0,<7,>=6.0.3 in c:\\users\\mohsinamin\\anaconda3\\envs\\ai_env\\lib\\site-packages (from streamlit) (6.5.2)\n",
      "Requirement already satisfied: jinja2 in c:\\users\\mohsinamin\\anaconda3\\envs\\ai_env\\lib\\site-packages (from altair!=5.4.0,!=5.4.1,<6,>=4.0->streamlit) (3.1.6)\n",
      "Requirement already satisfied: jsonschema>=3.0 in c:\\users\\mohsinamin\\anaconda3\\envs\\ai_env\\lib\\site-packages (from altair!=5.4.0,!=5.4.1,<6,>=4.0->streamlit) (4.25.1)\n",
      "Requirement already satisfied: narwhals>=1.14.2 in c:\\users\\mohsinamin\\anaconda3\\envs\\ai_env\\lib\\site-packages (from altair!=5.4.0,!=5.4.1,<6,>=4.0->streamlit) (2.5.0)\n",
      "Requirement already satisfied: colorama in c:\\users\\mohsinamin\\anaconda3\\envs\\ai_env\\lib\\site-packages (from click<9,>=7.0->streamlit) (0.4.6)\n",
      "Requirement already satisfied: gitdb<5,>=4.0.1 in c:\\users\\mohsinamin\\anaconda3\\envs\\ai_env\\lib\\site-packages (from gitpython!=3.1.19,<4,>=3.0.7->streamlit) (4.0.12)\n",
      "Requirement already satisfied: smmap<6,>=3.0.1 in c:\\users\\mohsinamin\\anaconda3\\envs\\ai_env\\lib\\site-packages (from gitdb<5,>=4.0.1->gitpython!=3.1.19,<4,>=3.0.7->streamlit) (5.0.2)\n",
      "Requirement already satisfied: charset_normalizer<4,>=2 in c:\\users\\mohsinamin\\anaconda3\\envs\\ai_env\\lib\\site-packages (from requests<3,>=2.27->streamlit) (3.4.3)\n",
      "Requirement already satisfied: idna<4,>=2.5 in c:\\users\\mohsinamin\\anaconda3\\envs\\ai_env\\lib\\site-packages (from requests<3,>=2.27->streamlit) (3.10)\n",
      "Requirement already satisfied: urllib3<3,>=1.21.1 in c:\\users\\mohsinamin\\anaconda3\\envs\\ai_env\\lib\\site-packages (from requests<3,>=2.27->streamlit) (2.5.0)\n",
      "Requirement already satisfied: certifi>=2017.4.17 in c:\\users\\mohsinamin\\anaconda3\\envs\\ai_env\\lib\\site-packages (from requests<3,>=2.27->streamlit) (2025.8.3)\n",
      "Requirement already satisfied: MarkupSafe>=2.0 in c:\\users\\mohsinamin\\anaconda3\\envs\\ai_env\\lib\\site-packages (from jinja2->altair!=5.4.0,!=5.4.1,<6,>=4.0->streamlit) (3.0.2)\n",
      "Requirement already satisfied: attrs>=22.2.0 in c:\\users\\mohsinamin\\anaconda3\\envs\\ai_env\\lib\\site-packages (from jsonschema>=3.0->altair!=5.4.0,!=5.4.1,<6,>=4.0->streamlit) (25.3.0)\n",
      "Requirement already satisfied: jsonschema-specifications>=2023.03.6 in c:\\users\\mohsinamin\\anaconda3\\envs\\ai_env\\lib\\site-packages (from jsonschema>=3.0->altair!=5.4.0,!=5.4.1,<6,>=4.0->streamlit) (2025.9.1)\n",
      "Requirement already satisfied: referencing>=0.28.4 in c:\\users\\mohsinamin\\anaconda3\\envs\\ai_env\\lib\\site-packages (from jsonschema>=3.0->altair!=5.4.0,!=5.4.1,<6,>=4.0->streamlit) (0.36.2)\n",
      "Requirement already satisfied: rpds-py>=0.7.1 in c:\\users\\mohsinamin\\anaconda3\\envs\\ai_env\\lib\\site-packages (from jsonschema>=3.0->altair!=5.4.0,!=5.4.1,<6,>=4.0->streamlit) (0.27.1)\n",
      "Requirement already satisfied: six>=1.5 in c:\\users\\mohsinamin\\anaconda3\\envs\\ai_env\\lib\\site-packages (from python-dateutil>=2.8.2->pandas) (1.17.0)\n"
     ]
    },
    {
     "name": "stderr",
     "output_type": "stream",
     "text": [
      "WARNING: Error parsing dependencies of wcwidth: [Errno 2] No such file or directory: 'c:\\\\users\\\\mohsinamin\\\\anaconda3\\\\envs\\\\ai_env\\\\lib\\\\site-packages\\\\wcwidth-0.2.13.dist-info\\\\METADATA'\n"
     ]
    }
   ],
   "source": [
    "!pip install pandas numpy scikit-learn imbalanced-learn joblib streamlit\n"
   ]
  },
  {
   "cell_type": "code",
   "execution_count": 3,
   "id": "41a1b14d-db0e-4efc-85fb-c112251f500f",
   "metadata": {},
   "outputs": [],
   "source": [
    "# ========== 1. Imports ==========\n",
    "import pandas as pd\n",
    "import numpy as np\n",
    "import matplotlib.pyplot as plt\n",
    "import seaborn as sns\n",
    "from sklearn.model_selection import train_test_split, GridSearchCV, StratifiedKFold, cross_val_score\n",
    "from sklearn.preprocessing import LabelEncoder, StandardScaler\n",
    "from sklearn.metrics import accuracy_score, classification_report, confusion_matrix, roc_auc_score\n",
    "from sklearn.ensemble import RandomForestClassifier, GradientBoostingClassifier\n",
    "from sklearn.linear_model import LogisticRegression\n",
    "from sklearn.svm import SVC\n",
    "from imblearn.over_sampling import SMOTE\n",
    "import joblib\n",
    "import warnings\n",
    "warnings.filterwarnings('ignore')\n",
    "%matplotlib inline\n"
   ]
  },
  {
   "cell_type": "code",
   "execution_count": 4,
   "id": "e983814c-45a4-444f-b0a3-0ff653961057",
   "metadata": {},
   "outputs": [
    {
     "name": "stdout",
     "output_type": "stream",
     "text": [
      "shape: (64374, 12)\n"
     ]
    },
    {
     "data": {
      "text/html": [
       "<div>\n",
       "<style scoped>\n",
       "    .dataframe tbody tr th:only-of-type {\n",
       "        vertical-align: middle;\n",
       "    }\n",
       "\n",
       "    .dataframe tbody tr th {\n",
       "        vertical-align: top;\n",
       "    }\n",
       "\n",
       "    .dataframe thead th {\n",
       "        text-align: right;\n",
       "    }\n",
       "</style>\n",
       "<table border=\"1\" class=\"dataframe\">\n",
       "  <thead>\n",
       "    <tr style=\"text-align: right;\">\n",
       "      <th></th>\n",
       "      <th>CustomerID</th>\n",
       "      <th>Age</th>\n",
       "      <th>Gender</th>\n",
       "      <th>Tenure</th>\n",
       "      <th>Usage Frequency</th>\n",
       "      <th>Support Calls</th>\n",
       "      <th>Payment Delay</th>\n",
       "      <th>Subscription Type</th>\n",
       "      <th>Contract Length</th>\n",
       "      <th>Total Spend</th>\n",
       "      <th>Last Interaction</th>\n",
       "      <th>Churn</th>\n",
       "    </tr>\n",
       "  </thead>\n",
       "  <tbody>\n",
       "    <tr>\n",
       "      <th>0</th>\n",
       "      <td>1</td>\n",
       "      <td>22</td>\n",
       "      <td>Female</td>\n",
       "      <td>25</td>\n",
       "      <td>14</td>\n",
       "      <td>4</td>\n",
       "      <td>27</td>\n",
       "      <td>Basic</td>\n",
       "      <td>Monthly</td>\n",
       "      <td>598</td>\n",
       "      <td>9</td>\n",
       "      <td>1</td>\n",
       "    </tr>\n",
       "    <tr>\n",
       "      <th>1</th>\n",
       "      <td>2</td>\n",
       "      <td>41</td>\n",
       "      <td>Female</td>\n",
       "      <td>28</td>\n",
       "      <td>28</td>\n",
       "      <td>7</td>\n",
       "      <td>13</td>\n",
       "      <td>Standard</td>\n",
       "      <td>Monthly</td>\n",
       "      <td>584</td>\n",
       "      <td>20</td>\n",
       "      <td>0</td>\n",
       "    </tr>\n",
       "    <tr>\n",
       "      <th>2</th>\n",
       "      <td>3</td>\n",
       "      <td>47</td>\n",
       "      <td>Male</td>\n",
       "      <td>27</td>\n",
       "      <td>10</td>\n",
       "      <td>2</td>\n",
       "      <td>29</td>\n",
       "      <td>Premium</td>\n",
       "      <td>Annual</td>\n",
       "      <td>757</td>\n",
       "      <td>21</td>\n",
       "      <td>0</td>\n",
       "    </tr>\n",
       "    <tr>\n",
       "      <th>3</th>\n",
       "      <td>4</td>\n",
       "      <td>35</td>\n",
       "      <td>Male</td>\n",
       "      <td>9</td>\n",
       "      <td>12</td>\n",
       "      <td>5</td>\n",
       "      <td>17</td>\n",
       "      <td>Premium</td>\n",
       "      <td>Quarterly</td>\n",
       "      <td>232</td>\n",
       "      <td>18</td>\n",
       "      <td>0</td>\n",
       "    </tr>\n",
       "    <tr>\n",
       "      <th>4</th>\n",
       "      <td>5</td>\n",
       "      <td>53</td>\n",
       "      <td>Female</td>\n",
       "      <td>58</td>\n",
       "      <td>24</td>\n",
       "      <td>9</td>\n",
       "      <td>2</td>\n",
       "      <td>Standard</td>\n",
       "      <td>Annual</td>\n",
       "      <td>533</td>\n",
       "      <td>18</td>\n",
       "      <td>0</td>\n",
       "    </tr>\n",
       "  </tbody>\n",
       "</table>\n",
       "</div>"
      ],
      "text/plain": [
       "   CustomerID  Age  Gender  Tenure  Usage Frequency  Support Calls  \\\n",
       "0           1   22  Female      25               14              4   \n",
       "1           2   41  Female      28               28              7   \n",
       "2           3   47    Male      27               10              2   \n",
       "3           4   35    Male       9               12              5   \n",
       "4           5   53  Female      58               24              9   \n",
       "\n",
       "   Payment Delay Subscription Type Contract Length  Total Spend  \\\n",
       "0             27             Basic         Monthly          598   \n",
       "1             13          Standard         Monthly          584   \n",
       "2             29           Premium          Annual          757   \n",
       "3             17           Premium       Quarterly          232   \n",
       "4              2          Standard          Annual          533   \n",
       "\n",
       "   Last Interaction  Churn  \n",
       "0                 9      1  \n",
       "1                20      0  \n",
       "2                21      0  \n",
       "3                18      0  \n",
       "4                18      0  "
      ]
     },
     "execution_count": 4,
     "metadata": {},
     "output_type": "execute_result"
    }
   ],
   "source": [
    "# ========== 2. Load dataset ==========\n",
    "df = pd.read_csv('./customer_churn_dataset-testing-master.csv')   # <- change path if needed\n",
    "print(\"shape:\", df.shape)\n",
    "df.head()\n"
   ]
  },
  {
   "cell_type": "code",
   "execution_count": 5,
   "id": "24664af8-760d-4ff2-beef-8a87127a08ba",
   "metadata": {},
   "outputs": [
    {
     "name": "stdout",
     "output_type": "stream",
     "text": [
      "<class 'pandas.core.frame.DataFrame'>\n",
      "RangeIndex: 64374 entries, 0 to 64373\n",
      "Data columns (total 12 columns):\n",
      " #   Column             Non-Null Count  Dtype \n",
      "---  ------             --------------  ----- \n",
      " 0   CustomerID         64374 non-null  int64 \n",
      " 1   Age                64374 non-null  int64 \n",
      " 2   Gender             64374 non-null  object\n",
      " 3   Tenure             64374 non-null  int64 \n",
      " 4   Usage Frequency    64374 non-null  int64 \n",
      " 5   Support Calls      64374 non-null  int64 \n",
      " 6   Payment Delay      64374 non-null  int64 \n",
      " 7   Subscription Type  64374 non-null  object\n",
      " 8   Contract Length    64374 non-null  object\n",
      " 9   Total Spend        64374 non-null  int64 \n",
      " 10  Last Interaction   64374 non-null  int64 \n",
      " 11  Churn              64374 non-null  int64 \n",
      "dtypes: int64(9), object(3)\n",
      "memory usage: 5.9+ MB\n",
      "None\n",
      "\n",
      "Missing values:\n",
      " CustomerID           0\n",
      "Age                  0\n",
      "Gender               0\n",
      "Tenure               0\n",
      "Usage Frequency      0\n",
      "Support Calls        0\n",
      "Payment Delay        0\n",
      "Subscription Type    0\n",
      "Contract Length      0\n",
      "Total Spend          0\n",
      "Last Interaction     0\n",
      "Churn                0\n",
      "dtype: int64\n",
      "\n",
      "Duplicates: 0\n",
      "\n",
      "Target distribution:\n",
      " Churn\n",
      "0    0.526315\n",
      "1    0.473685\n",
      "Name: proportion, dtype: float64\n"
     ]
    }
   ],
   "source": [
    "# ========== 3. Quick checks ==========\n",
    "print(df.info())\n",
    "print(\"\\nMissing values:\\n\", df.isna().sum())\n",
    "print(\"\\nDuplicates:\", df.duplicated().sum())\n",
    "print(\"\\nTarget distribution:\\n\", df['Churn'].value_counts(normalize=True))\n"
   ]
  },
  {
   "cell_type": "code",
   "execution_count": 6,
   "id": "131d120c-b568-4265-b5a1-a5bfa32e7398",
   "metadata": {},
   "outputs": [
    {
     "name": "stdout",
     "output_type": "stream",
     "text": [
      "Features: ['Age', 'Gender', 'Tenure', 'Usage Frequency', 'Support Calls', 'Payment Delay', 'Subscription Type', 'Contract Length', 'Total Spend', 'Last Interaction']\n"
     ]
    }
   ],
   "source": [
    "# ========== 4. Preprocessing ==========\n",
    "# 4.1 Encode categorical columns\n",
    "le_gender = LabelEncoder()\n",
    "df['Gender'] = le_gender.fit_transform(df['Gender'])\n",
    "\n",
    "le_sub = LabelEncoder()\n",
    "df['Subscription Type'] = le_sub.fit_transform(df['Subscription Type'])\n",
    "\n",
    "le_contract = LabelEncoder()\n",
    "df['Contract Length'] = le_contract.fit_transform(df['Contract Length'])\n",
    "\n",
    "# 4.2 Drop ID\n",
    "if 'CustomerID' in df.columns:\n",
    "    df = df.drop('CustomerID', axis=1)\n",
    "\n",
    "# 4.3 Features and target\n",
    "X = df.drop('Churn', axis=1)\n",
    "y = df['Churn']\n",
    "\n",
    "print(\"Features:\", X.columns.tolist())\n"
   ]
  },
  {
   "cell_type": "code",
   "execution_count": 7,
   "id": "f85f74c1-3970-46cb-9104-9c2292a4a0a1",
   "metadata": {},
   "outputs": [
    {
     "name": "stdout",
     "output_type": "stream",
     "text": [
      "Shapes: (51499, 10) (12875, 10)\n"
     ]
    }
   ],
   "source": [
    "# ========== 5. Train/test split ==========\n",
    "X_train, X_test, y_train, y_test = train_test_split(\n",
    "    X, y, test_size=0.20, random_state=42, stratify=y\n",
    ")\n",
    "print(\"Shapes:\", X_train.shape, X_test.shape)\n"
   ]
  },
  {
   "cell_type": "code",
   "execution_count": 8,
   "id": "e9005dbe-1a9b-4247-85af-80f585c806ac",
   "metadata": {},
   "outputs": [
    {
     "name": "stdout",
     "output_type": "stream",
     "text": [
      "Before SMOTE: Churn\n",
      "0    27105\n",
      "1    24394\n",
      "Name: count, dtype: int64\n",
      "After SMOTE: Churn\n",
      "0    27105\n",
      "1    27105\n",
      "Name: count, dtype: int64\n"
     ]
    }
   ],
   "source": [
    "# ========== 6. Handle imbalance with SMOTE on training set ==========\n",
    "print(\"Before SMOTE:\", y_train.value_counts())\n",
    "sm = SMOTE(random_state=42)\n",
    "X_train_res, y_train_res = sm.fit_resample(X_train, y_train)\n",
    "print(\"After SMOTE:\", pd.Series(y_train_res).value_counts())\n"
   ]
  },
  {
   "cell_type": "code",
   "execution_count": 9,
   "id": "1689e0bc-84b6-448d-ad12-4a74ec0d0f9a",
   "metadata": {},
   "outputs": [],
   "source": [
    "# ========== 7. Scale numeric features ==========\n",
    "scaler = StandardScaler()\n",
    "X_train_res = scaler.fit_transform(X_train_res)\n",
    "X_test_scaled = scaler.transform(X_test)\n"
   ]
  },
  {
   "cell_type": "code",
   "execution_count": 10,
   "id": "cf8805ed-801a-4d5b-9d30-19785400f305",
   "metadata": {},
   "outputs": [],
   "source": [
    "# ========== 8. Define models and hyperparameters ==========\n",
    "models = {\n",
    "    'LogisticRegression': LogisticRegression(max_iter=1000, random_state=42),\n",
    "    'RandomForest': RandomForestClassifier(random_state=42),\n",
    "    'GradientBoosting': GradientBoostingClassifier(random_state=42),\n",
    "    \n",
    "}\n",
    "\n",
    "param_grids = {\n",
    "    'LogisticRegression': {'C': [0.01, 0.1, 1, 10]},\n",
    "    'RandomForest': {'n_estimators':[100,200], 'max_depth':[None,10,20], 'min_samples_split':[2,5]},\n",
    "    'GradientBoosting': {'n_estimators':[100,200], 'learning_rate':[0.01,0.1], 'max_depth':[3,5]},\n",
    "    \n",
    "}\n"
   ]
  },
  {
   "cell_type": "code",
   "execution_count": 11,
   "id": "f0f242ac-675d-4f1f-b0f5-d1ec450851c1",
   "metadata": {},
   "outputs": [
    {
     "name": "stdout",
     "output_type": "stream",
     "text": [
      "\n",
      "Running GridSearch for LogisticRegression ...\n",
      "Fitting 5 folds for each of 4 candidates, totalling 20 fits\n",
      "Best LogisticRegression params: {'C': 0.1}\n",
      "Best LogisticRegression CV accuracy: 0.8275\n",
      "\n",
      "Running GridSearch for RandomForest ...\n",
      "Fitting 5 folds for each of 12 candidates, totalling 60 fits\n",
      "Best RandomForest params: {'max_depth': None, 'min_samples_split': 2, 'n_estimators': 200}\n",
      "Best RandomForest CV accuracy: 0.9975\n",
      "\n",
      "Running GridSearch for GradientBoosting ...\n",
      "Fitting 5 folds for each of 8 candidates, totalling 40 fits\n",
      "Best GradientBoosting params: {'learning_rate': 0.1, 'max_depth': 5, 'n_estimators': 100}\n",
      "Best GradientBoosting CV accuracy: 0.9983\n"
     ]
    }
   ],
   "source": [
    "# ========== 9. GridSearchCV to find best model ==========\n",
    "best_models = {}\n",
    "cv = StratifiedKFold(n_splits=5, shuffle=True, random_state=42)\n",
    "\n",
    "for name, model in models.items():\n",
    "    print(f\"\\nRunning GridSearch for {name} ...\")\n",
    "    grid = GridSearchCV(model, param_grids[name], cv=cv, scoring='accuracy', n_jobs=-1, verbose=1)\n",
    "    grid.fit(X_train_res, y_train_res)\n",
    "    print(f\"Best {name} params: {grid.best_params_}\")\n",
    "    print(f\"Best {name} CV accuracy: {grid.best_score_:.4f}\")\n",
    "    best_models[name] = grid.best_estimator_\n"
   ]
  },
  {
   "cell_type": "code",
   "execution_count": 12,
   "id": "30624b9a-d021-4e66-92e3-ff9118accbb2",
   "metadata": {},
   "outputs": [
    {
     "name": "stdout",
     "output_type": "stream",
     "text": [
      "\n",
      "Model: LogisticRegression\n",
      "Accuracy: 0.8249320388349515\n",
      "ROC AUC: 0.9017472041887371\n",
      "              precision    recall  f1-score   support\n",
      "\n",
      "           0       0.85      0.82      0.83      6776\n",
      "           1       0.80      0.83      0.82      6099\n",
      "\n",
      "    accuracy                           0.82     12875\n",
      "   macro avg       0.82      0.83      0.82     12875\n",
      "weighted avg       0.83      0.82      0.83     12875\n",
      "\n",
      "\n",
      "Model: RandomForest\n",
      "Accuracy: 0.9990679611650486\n",
      "ROC AUC: 0.999997289895783\n",
      "              precision    recall  f1-score   support\n",
      "\n",
      "           0       1.00      1.00      1.00      6776\n",
      "           1       1.00      1.00      1.00      6099\n",
      "\n",
      "    accuracy                           1.00     12875\n",
      "   macro avg       1.00      1.00      1.00     12875\n",
      "weighted avg       1.00      1.00      1.00     12875\n",
      "\n",
      "\n",
      "Model: GradientBoosting\n",
      "Accuracy: 0.9999223300970874\n",
      "ROC AUC: 0.9999999758026409\n",
      "              precision    recall  f1-score   support\n",
      "\n",
      "           0       1.00      1.00      1.00      6776\n",
      "           1       1.00      1.00      1.00      6099\n",
      "\n",
      "    accuracy                           1.00     12875\n",
      "   macro avg       1.00      1.00      1.00     12875\n",
      "weighted avg       1.00      1.00      1.00     12875\n",
      "\n"
     ]
    }
   ],
   "source": [
    "# ========== 10. Evaluate best models on the test set ==========\n",
    "results = []\n",
    "for name, model in best_models.items():\n",
    "    # Train on resampled+scaled training data if needed (GridSearch already fit)\n",
    "    y_pred = model.predict(X_test_scaled)\n",
    "    acc = accuracy_score(y_test, y_pred)\n",
    "    roc = None\n",
    "    try:\n",
    "        probs = model.predict_proba(X_test_scaled)[:,1]\n",
    "        roc = roc_auc_score(y_test, probs)\n",
    "    except:\n",
    "        try:\n",
    "            probs = model.decision_function(X_test_scaled)\n",
    "            roc = roc_auc_score(y_test, probs)\n",
    "        except:\n",
    "            roc = None\n",
    "    print(f\"\\nModel: {name}\")\n",
    "    print(\"Accuracy:\", acc)\n",
    "    if roc:\n",
    "        print(\"ROC AUC:\", roc)\n",
    "    print(classification_report(y_test, y_pred))\n",
    "    results.append((name, model, acc))\n"
   ]
  },
  {
   "cell_type": "code",
   "execution_count": 13,
   "id": "5e5b7b21-38d6-4735-ad0f-5a792c70c61d",
   "metadata": {},
   "outputs": [
    {
     "name": "stdout",
     "output_type": "stream",
     "text": [
      "\n",
      "Best model: GradientBoosting with accuracy 0.9999\n"
     ]
    }
   ],
   "source": [
    "    # ========== 11. Choose best model ==========\n",
    "results_sorted = sorted(results, key=lambda x: x[2], reverse=True)\n",
    "best_name, best_model, best_acc = results_sorted[0]\n",
    "print(f\"\\nBest model: {best_name} with accuracy {best_acc:.4f}\")\n"
   ]
  },
  {
   "cell_type": "code",
   "execution_count": 14,
   "id": "0e81114e-fc11-4be6-ae38-6e5ac3e7d18a",
   "metadata": {},
   "outputs": [
    {
     "data": {
      "image/png": "[encoded data removed]",
      "text/plain": [
       "<Figure size 640x480 with 2 Axes>"
      ]
     },
     "metadata": {},
     "output_type": "display_data"
    },
    {
     "data": {
      "image/png": "[encoded data removed]",
      "text/plain": [
       "<Figure size 1000x400 with 1 Axes>"
      ]
     },
     "metadata": {},
     "output_type": "display_data"
    }
   ],
   "source": [
    "# ========== 12. Confusion matrix and feature importance (for tree models) ==========\n",
    "from sklearn.metrics import ConfusionMatrixDisplay\n",
    "\n",
    "# Confusion matrix\n",
    "y_pred_best = best_model.predict(X_test_scaled)\n",
    "cm = confusion_matrix(y_test, y_pred_best)\n",
    "disp = ConfusionMatrixDisplay(confusion_matrix=cm)\n",
    "disp.plot()\n",
    "plt.title(f'Confusion Matrix: {best_name}')\n",
    "plt.show()\n",
    "\n",
    "# Feature importance if available\n",
    "if hasattr(best_model, 'feature_importances_'):\n",
    "    importances = pd.Series(best_model.feature_importances_, index=X.columns)\n",
    "    importances.sort_values(ascending=False).plot(kind='bar', figsize=(10,4))\n",
    "    plt.title(f'Feature Importance - {best_name}')\n",
    "    plt.show()\n"
   ]
  },
  {
   "cell_type": "code",
   "execution_count": 15,
   "id": "cb11e32c-9d8e-47c6-8d81-719f0f2954ce",
   "metadata": {},
   "outputs": [
    {
     "name": "stdout",
     "output_type": "stream",
     "text": [
      "Saved: best_churn_model.pkl, scaler.pkl, and encoders.\n"
     ]
    }
   ],
   "source": [
    "# ========== 13. Save best model + scaler + label encoders ==========\n",
    "joblib.dump(best_model, 'best_churn_model.pkl')\n",
    "joblib.dump(scaler, 'scaler.pkl')\n",
    "joblib.dump(le_gender, 'le_gender.pkl')\n",
    "joblib.dump(le_sub, 'le_subscription.pkl')\n",
    "joblib.dump(le_contract, 'le_contract.pkl')\n",
    "print(\"Saved: best_churn_model.pkl, scaler.pkl, and encoders.\")\n"
   ]
  },
  {
   "cell_type": "code",
   "execution_count": null,
   "id": "c410d838-a083-45bd-a654-effe170745d0",
   "metadata": {},
   "outputs": [],
   "source": []
  }
 ],
 "metadata": {
  "kernelspec": {
   "display_name": "AI Environment",
   "language": "python",
   "name": "ai_env"
  },
  "language_info": {
   "codemirror_mode": {
    "name": "ipython",
    "version": 3
   },
   "file_extension": ".py",
   "mimetype": "text/x-python",
   "name": "python",
   "nbconvert_exporter": "python",
   "pygments_lexer": "ipython3",
   "version": "3.10.18"
  }
 },
 "nbformat": 4,
 "nbformat_minor": 5
}
